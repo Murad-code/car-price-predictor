{
 "cells": [
  {
   "attachments": {},
   "cell_type": "markdown",
   "metadata": {},
   "source": [
    "# Practice\n"
   ]
  },
  {
   "cell_type": "code",
   "execution_count": 2,
   "metadata": {},
   "outputs": [],
   "source": [
    "import numpy as np\n",
    "import pandas as pd\n",
    "import pickle\n",
    "import sklearn\n",
    "from sklearn.ensemble import RandomForestRegressor\n",
    "from sklearn.datasets import make_regression\n",
    "import matplotlib.pyplot as pyplot"
   ]
  },
  {
   "cell_type": "code",
   "execution_count": 27,
   "metadata": {},
   "outputs": [
    {
     "name": "stdout",
     "output_type": "stream",
     "text": [
      "Index(['year', 'mileage', 'engineSize', 'dmy_A1', 'dmy_A2', 'dmy_A3', 'dmy_A4',\n",
      "       'dmy_A5', 'dmy_A6', 'dmy_A7', 'dmy_A8', 'dmy_Q2', 'dmy_Q3', 'dmy_Q5',\n",
      "       'dmy_Q7', 'dmy_Q8', 'dmy_R8', 'dmy_RS3', 'dmy_RS4', 'dmy_RS5',\n",
      "       'dmy_RS6', 'dmy_RS7', 'dmy_S3', 'dmy_S4', 'dmy_S5', 'dmy_S8', 'dmy_SQ5',\n",
      "       'dmy_SQ7', 'dmy_TT', 'dmy_Automatic', 'dmy_Manual', 'dmy_Diesel',\n",
      "       'dmy_Hybrid', 'dmy_Petrol'],\n",
      "      dtype='object')\n",
      "[[2.0170e+03 1.5735e+04 1.4000e+00 ... 0.0000e+00 0.0000e+00 1.0000e+00]\n",
      " [2.0160e+03 3.6203e+04 2.0000e+00 ... 1.0000e+00 0.0000e+00 0.0000e+00]\n",
      " [2.0160e+03 2.9946e+04 1.4000e+00 ... 0.0000e+00 0.0000e+00 1.0000e+00]\n",
      " ...\n",
      " [2.0200e+03 6.0900e+02 1.0000e+00 ... 0.0000e+00 0.0000e+00 1.0000e+00]\n",
      " [2.0170e+03 8.6460e+03 1.4000e+00 ... 0.0000e+00 0.0000e+00 1.0000e+00]\n",
      " [2.0160e+03 1.1855e+04 1.4000e+00 ... 0.0000e+00 0.0000e+00 1.0000e+00]]\n"
     ]
    },
    {
     "name": "stderr",
     "output_type": "stream",
     "text": [
      "/var/folders/t3/l3sq8rr96kd2f33_6q8py6f00000gn/T/ipykernel_5856/3229041728.py:6: FutureWarning: In a future version of pandas all arguments of DataFrame.drop except for the argument 'labels' will be keyword-only.\n",
      "  print(dummy.drop([predict], 1).keys())\n",
      "/var/folders/t3/l3sq8rr96kd2f33_6q8py6f00000gn/T/ipykernel_5856/3229041728.py:8: FutureWarning: In a future version of pandas all arguments of DataFrame.drop except for the argument 'labels' will be keyword-only.\n",
      "  X = np.array(dummy.drop([predict], 1))\n"
     ]
    }
   ],
   "source": [
    "data = pd.read_csv('audi.csv', sep=',', skipinitialspace=True)\n",
    "data = data[[\"model\", \"year\", \"price\", \"transmission\", \"mileage\", \"fuelType\", \"engineSize\"]]\n",
    "predict = \"price\"\n",
    "\n",
    "dummy = pd.get_dummies(data, columns=['model', 'transmission', 'fuelType'], prefix=\"dmy\")\n",
    "print(dummy.drop([predict], 1).keys()) # prints all model fields needed for every manufacturer\n",
    "\n",
    "X = np.array(dummy.drop([predict], 1))\n",
    "y = np.array(dummy[predict])\n",
    "x_train, x_test, y_train, y_test = sklearn.model_selection.train_test_split(X, y, test_size=0.1)"
   ]
  },
  {
   "cell_type": "code",
   "execution_count": 14,
   "metadata": {},
   "outputs": [
    {
     "name": "stdout",
     "output_type": "stream",
     "text": [
      "0.9525947187469962\n"
     ]
    }
   ],
   "source": [
    "\n",
    "best = 0\n",
    "for _ in range(10):\n",
    "    x_train, x_test, y_train, y_test = sklearn.model_selection.train_test_split(X, y, test_size=0.1)\n",
    "\n",
    "    model = RandomForestRegressor(n_estimators=100, max_features=7)\n",
    "    model.fit(x_train, y_train)\n",
    "\n",
    "    acc = model.score(x_test, y_test)\n",
    "    if acc > best:\n",
    "        best = acc\n",
    "        with open(\"audimodel.pickle\", \"wb\") as f:\n",
    "            pickle.dump(model, f)\n",
    "print(best)\n",
    "\n",
    "pickle_in = open(\"audimodel.pickle\", \"rb\")\n",
    "linear = pickle.load(pickle_in)"
   ]
  },
  {
   "cell_type": "code",
   "execution_count": null,
   "metadata": {},
   "outputs": [],
   "source": [
    "predictions = model.predict(x_test)\n",
    "for x in range(len(predictions)):\n",
    "    print(predictions[x], y_test[x], x_test[x])"
   ]
  },
  {
   "cell_type": "code",
   "execution_count": null,
   "metadata": {},
   "outputs": [],
   "source": [
    "p = 'Predictions'\n",
    "pyplot.style.use(\"ggplot\")\n",
    "pyplot.scatter(predictions, y_test)\n",
    "pyplot.plot(y_test,y_test,color='blue')\n",
    "pyplot.xlabel(p)\n",
    "pyplot.ylabel(\"Actual Result\")\n",
    "pyplot.show()"
   ]
  },
  {
   "cell_type": "code",
   "execution_count": 19,
   "metadata": {},
   "outputs": [
    {
     "name": "stdout",
     "output_type": "stream",
     "text": [
      "['year', 'price', 'mileage', 'engineSize', 'dmy_A1', 'dmy_A2', 'dmy_A3', 'dmy_A4', 'dmy_A5', 'dmy_A6', 'dmy_A7', 'dmy_A8', 'dmy_Q2', 'dmy_Q3', 'dmy_Q5', 'dmy_Q7', 'dmy_Q8', 'dmy_R8', 'dmy_RS3', 'dmy_RS4', 'dmy_RS5', 'dmy_RS6', 'dmy_RS7', 'dmy_S3', 'dmy_S4', 'dmy_S5', 'dmy_S8', 'dmy_SQ5', 'dmy_SQ7', 'dmy_TT', 'dmy_Automatic', 'dmy_Manual', 'dmy_Diesel', 'dmy_Hybrid', 'dmy_Petrol']\n"
     ]
    }
   ],
   "source": [
    "with pd.option_context('display.max_rows', None, 'display.max_columns', None):\n",
    "    print(dummy.columns.tolist())\n",
    "# print(dummy.head(2))\n",
    "input = [[2.0140e+03, 5.2595e+04, 2.0000e+00, 2.0140e+03, 5.2595e+04, 2.0000e+00\n",
    ", 0.0000e+00, 0.0000e+00, 0.0000e+00, 0.0000e+00, 1.0000e+00, 0.0000e+00\n",
    ", 0.0000e+00, 0.0000e+00, 0.0000e+00, 0.0000e+00, 0.0000e+00, 0.0000e+00\n",
    ", 0.0000e+00, 0.0000e+00, 0.0000e+00, 0.0000e+00, 0.0000e+00, 0.0000e+00\n",
    ", 0.0000e+00, 0.0000e+00, 0.0000e+00, 0.0000e+00, 0.0000e+00, 0.0000e+00\n",
    ", 0.0000e+00, 0.0000e+00, 1.0000e+00, 0.0000e+00, 1.0000e+00, 0.0000e+00\n",
    ", 0.0000e+00]]\n",
    "practice = model.predict(input)\n",
    "# print(practice)"
   ]
  }
 ],
 "metadata": {
  "kernelspec": {
   "display_name": "firstEnv",
   "language": "python",
   "name": "python3"
  },
  "language_info": {
   "codemirror_mode": {
    "name": "ipython",
    "version": 3
   },
   "file_extension": ".py",
   "mimetype": "text/x-python",
   "name": "python",
   "nbconvert_exporter": "python",
   "pygments_lexer": "ipython3",
   "version": "3.10.8"
  },
  "orig_nbformat": 4,
  "vscode": {
   "interpreter": {
    "hash": "38b1db61312822da99e959a04126fc11747b0da431d5990be56af3237d9a2c29"
   }
  }
 },
 "nbformat": 4,
 "nbformat_minor": 2
}
